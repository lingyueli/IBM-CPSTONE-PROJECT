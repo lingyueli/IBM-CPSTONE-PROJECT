{
 "metadata": {
  "language_info": {
   "codemirror_mode": {
    "name": "ipython",
    "version": 3
   },
   "file_extension": ".py",
   "mimetype": "text/x-python",
   "name": "python",
   "nbconvert_exporter": "python",
   "pygments_lexer": "ipython3",
   "version": "3.7.1-final"
  },
  "orig_nbformat": 2,
  "kernelspec": {
   "name": "Python 3.7.1 64-bit (conda)",
   "display_name": "Python 3.7.1 64-bit (conda)",
   "metadata": {
    "interpreter": {
     "hash": "ebcbde8dcad2b1bcea16ab710c600f81c07e1120f27e8418223ef181555f4f9b"
    }
   }
  }
 },
 "nbformat": 4,
 "nbformat_minor": 2,
 "cells": [
  {
   "source": [
    "<h1>Segmenting and Clustering Chinese Restaurants in Toronto<h1/>"
   ],
   "cell_type": "markdown",
   "metadata": {}
  },
  {
   "source": [
    "## Table of contents\n",
    "* [Introduction: Business Problem](#introduction)\n",
    "* [Data](#data)\n",
    "* [Methodology](#methodology)\n",
    "* [Analysis](#analysis)\n",
    "* [Results and Discussion](#results)\n",
    "* [Conclusion](#conclusion)"
   ],
   "cell_type": "markdown",
   "metadata": {}
  },
  {
   "source": [
    "## Introduction: Business Problem \n",
    "\n",
    "Cluster Toronto restaurant areas with respect to the average cost of meals in a restaurant.\n"
   ],
   "cell_type": "markdown",
   "metadata": {}
  },
  {
   "source": [
    "## Data \n",
    "\n",
    "To start requesting restaurant information from foursquare website, Toronto needs to be splitted into circular areas with a radius of 300 meters, so our neighborhood centers will be 600 meters apart. A shape of Toronto in general can be descrived as trapezoid, there most/left right longitide-lattitude needs to be determined as well general width and bredth of the city.\n",
    "\n",
    "To accurately calculate distances we need to create our grid of locations in Cartesian 2D coordinate system which allows us to calculate distances in meters (not in latitude/longitude degrees). Then we'll project those coordinates back to latitude/longitude degrees to be shown on Folium map. So let's create functions to convert between WGS84 spherical coordinate system (latitude/longitude degrees) and UTM Cartesian coordinate system (X/Y coordinates in meters).\n",
    "\n",
    "\n",
    "<table align=\"center\">\n",
    "    <tr>\n",
    "        <th>         </th>\n",
    "        <th>Lattitude</th>\n",
    "        <th>Longitude</th>\n",
    "    </tr>\n",
    "    <tr>\n",
    "        <th>Top right coordinates</th>\n",
    "        <th>43.857698</th>\n",
    "        <th>-79.169111</th>\n",
    "    </tr>\n",
    "    <tr>\n",
    "        <th>Top left coordinates</th>\n",
    "        <th>43.750724</th>\n",
    "        <th>-79.640452</th>\n",
    "    </tr>\n",
    "    <tr>\n",
    "        <th>Bottom left coordinates</th>\n",
    "        <th>43.577857</th>\n",
    "        <th>-79.541984</th>\n",
    "    </tr>\n",
    "    <tr>\n",
    "        <th>Bottom right coordinates:</th>\n",
    "        <th> 43.749704</th>\n",
    "        <th>-79.111260</th>\n",
    "    </tr>\n",
    "</table>"
   ],
   "cell_type": "markdown",
   "metadata": {}
  },
  {
   "cell_type": "code",
   "execution_count": 1,
   "metadata": {},
   "outputs": [],
   "source": [
    "from capstone import TorontoCircles\n",
    "\n",
    "top_right =      (43.857698, -79.169111)\n",
    "top_left =       (43.750724, -79.640452)\n",
    "bottom_left =    (43.557857, -79.541984)\n",
    "bottom_rigth =   (43.749704, -79.111260)\n",
    "\n",
    "toronto_map = TorontoCircles(  \n",
    "    top_right, \n",
    "    top_left, \n",
    "    bottom_left, \n",
    "    bottom_rigth\n",
    ")\n",
    "\n",
    "#toronto_map.create_toronto_map()"
   ]
  },
  {
   "source": [
    "Initial radius needs to be chosen on the basis that the maximum FOURSQUARE API number of requests is 500 "
   ],
   "cell_type": "markdown",
   "metadata": {}
  },
  {
   "cell_type": "code",
   "execution_count": 2,
   "metadata": {},
   "outputs": [],
   "source": [
    "toronto_map.circle_diameter = 1290"
   ]
  },
  {
   "cell_type": "code",
   "execution_count": 3,
   "metadata": {},
   "outputs": [
    {
     "output_type": "stream",
     "name": "stdout",
     "text": [
      "300\n"
     ]
    },
    {
     "output_type": "execute_result",
     "data": {
      "text/plain": [
       "300"
      ]
     },
     "metadata": {},
     "execution_count": 3
    }
   ],
   "source": [
    "len(toronto_map.get_xy_data())"
   ]
  },
  {
   "source": [
    "Displaying the data (explain why it looks like it)"
   ],
   "cell_type": "markdown",
   "metadata": {}
  },
  {
   "cell_type": "code",
   "execution_count": null,
   "metadata": {},
   "outputs": [],
   "source": [
    "toronto_map.display_circles()"
   ]
  },
  {
   "source": [
    "Preparing dataframe with Toronto Postal code adresses, Neighbourhoods, Lattitude and Longitude."
   ],
   "cell_type": "markdown",
   "metadata": {}
  },
  {
   "cell_type": "code",
   "execution_count": null,
   "metadata": {},
   "outputs": [],
   "source": [
    "# url = \"https://en.wikipedia.org/wiki/List_of_postal_codes_of_Canada:_M\"\n",
    "# wiki_df = pd.read_html(requests.get(url).text)[0]\n",
    "# wiki_df = wiki_df[wiki_df['Borough'] != 'Not assigned']\n",
    "# coord_df = pd.read_csv('geospatial-coordinates.csv')\n",
    "# wiki_df = wiki_df.merge(coord_df, how='left', on='Postal Code')\n",
    "# wiki_df.head()"
   ]
  },
  {
   "source": [
    "Using Folium library to visualise postal code areas"
   ],
   "cell_type": "markdown",
   "metadata": {}
  },
  {
   "source": [
    "# import folium\n",
    "\n",
    "# toronto_map = folium.Map(location=[43.7, -79.4], zoom_start=11)\n",
    "# toronto_map.choropleth(\n",
    "#     geo_data='Toronto2.geojson',\n",
    "#     fill_color='Yellow', \n",
    "#     line_color='Red',\n",
    "#     fill_opacity=0.7, \n",
    "#     line_opacity=1,\n",
    "#     reset=True\n",
    "# )\n",
    "\n",
    "# postcodes = folium.map.FeatureGroup()\n",
    "\n",
    "# for lat, lng, in zip(wiki_df.Latitude, wiki_df.Longitude):\n",
    "#     postcodes.add_child(\n",
    "#         folium.features.CircleMarker(\n",
    "#             [lat, lng],\n",
    "#             radius=5, # define how big you want the circle markers to be\n",
    "#             color='yellow',\n",
    "#             fill=True,\n",
    "#             fill_color='blue',\n",
    "#             fill_opacity=0.6\n",
    "#         )\n",
    "#     )\n",
    "\n",
    "# # add pop-up text to each marker on the map\n",
    "# latitudes = list(wiki_df.Latitude)\n",
    "# longitudes = list(wiki_df.Longitude)\n",
    "# labels = list(wiki_df['Postal Code'])\n",
    "\n",
    "# for lat, lng, label in zip(latitudes, longitudes, labels):\n",
    "#     folium.Marker([lat, lng], popup=label).add_to(toronto_map)    \n",
    "    \n",
    "# # add incidents to map\n",
    "# toronto_map.add_child(postcodes)"
   ],
   "cell_type": "code",
   "metadata": {},
   "execution_count": null,
   "outputs": []
  },
  {
   "source": [
    "Using Foursquare API to collect information about chinese restaurants in every area "
   ],
   "cell_type": "markdown",
   "metadata": {}
  },
  {
   "cell_type": "code",
   "execution_count": null,
   "metadata": {},
   "outputs": [],
   "source": [
    "# CLIENT_ID = 'ULGA5LTQONIWZ5ULCDROWAYVYJ0ZOI0C35CLVMG12JJAKCFN' \n",
    "# CLIENT_SECRET = 'VMEKZXMMCBO3RWK0IFRKV5KXBABWQ1EQ3J2ACE53UAR5SVWC'\n",
    "# VERSION = '20180604'\n",
    "# LIMIT = 50\n",
    "# search_query = 'vietnamese'# tested: chinese, asian, korean, japanese, vietnamese\n",
    "# radius = 1000\n",
    "\n"
   ]
  },
  {
   "source": [
    "function needs to be written that converts <b>result</b> request and transform it into the final desired dataframe with all the neccessary information "
   ],
   "cell_type": "markdown",
   "metadata": {}
  },
  {
   "source": [
    "Dataframe to have the following columns: <br> \n",
    "\n",
    "|Columns      |   \n",
    "|----------   |\n",
    "|Venue        |\n",
    "|Venue id     | \n",
    "|Toronto area |  \n",
    "|Category.name| \n",
    "|Address      |\n",
    "|Longitude    |\n",
    "|Lattitude    |\n",
    "\"\""
   ],
   "cell_type": "markdown",
   "metadata": {}
  },
  {
   "cell_type": "code",
   "execution_count": null,
   "metadata": {},
   "outputs": [],
   "source": [
    "\"\"\"  \n",
    "loop through all the types of restaurants \n",
    "\"\"\""
   ]
  },
  {
   "cell_type": "code",
   "execution_count": null,
   "metadata": {},
   "outputs": [],
   "source": [
    "# unprocessed_df = pd.DataFrame()\n",
    "\n",
    "# toronto_postal_code = wiki_df['Postal Code'].tolist()\n",
    "# toronto_borough = wiki_df['Borough'].tolist()\n",
    "\n",
    "# list_of_df = []\n",
    "# for postcode, borough in zip(toronto_postal_code, toronto_borough): \n",
    "#     near = \" \".join([borough, postcode])\n",
    "#     url =   f'https://api.foursquare.com/v2/venues/'\\\n",
    "#             f'search?client_id={CLIENT_ID}&client_secret={CLIENT_SECRET}'\\\n",
    "#             f'&near={near}&v={VERSION}&query={search_query}&limit={LIMIT}'\n",
    "\n",
    "#     try: \n",
    "#         results = requests.get(url).json()\n",
    "#         temp_df = pd.DataFrame(results['response']['venues'])\n",
    "#         list_of_df.append(temp_df)\n",
    "#     except BaseException:\n",
    "#         print(f'no result for: {near}')"
   ]
  },
  {
   "source": [
    "#concatinating all the dataframes and saving to csv file for future use \n",
    "# unprocessed_df = pd.concat(list_of_df, ignore_index=True)\n",
    "# unprocessed_df = unprocessed_df.drop_duplicates(subset='name')\n",
    "# unprocessed_df.to_csv('vietnamese_unprocessed.csv')\n",
    "# unprocessed_df.shape"
   ],
   "cell_type": "code",
   "metadata": {},
   "execution_count": null,
   "outputs": []
  },
  {
   "source": [
    "Processing dataframes obtained above "
   ],
   "cell_type": "markdown",
   "metadata": {}
  },
  {
   "cell_type": "code",
   "execution_count": null,
   "metadata": {},
   "outputs": [],
   "source": [
    "# def unpack_name_categories(row):\n",
    "#     row = eval(row)\n",
    "#     if len(row) == 0:\n",
    "#         return np.NaN\n",
    "#     else:\n",
    "#         return row[0]['name'] \n",
    "\n",
    "# def unpack_shortName_categories(row):\n",
    "#     row = eval(row)\n",
    "#     if len(row) == 0:\n",
    "#         return np.NaN\n",
    "#     else:\n",
    "#         return row[0]['shortName'] \n",
    "\n",
    "\n",
    "# def unpack_address_location(row):\n",
    "#     row = eval(row)\n",
    "#     if row:\n",
    "#         try:\n",
    "#             return row['address']\n",
    "#         except BaseException:\n",
    "#             return np.NaN\n",
    "#     else: \n",
    "#         return np.NaN\n",
    "\n",
    "# def unpack_lat_location(row):\n",
    "#     row = eval(row)\n",
    "#     if row:\n",
    "#         return row['lat']\n",
    "#     else: \n",
    "#         return np.NaN\n",
    "\n",
    "# def unpack_lng_location(row):\n",
    "#     row = eval(row)\n",
    "#     if row:\n",
    "#         try:\n",
    "#             return row['lng']\n",
    "#         except BaseException:\n",
    "#             return np.NaN\n",
    "#     else: \n",
    "#         return np.NaN\n",
    "\n",
    "# def unpack_postcode_location(row):\n",
    "#     row = eval(row)\n",
    "#     if row:\n",
    "#         try:\n",
    "#             return row['postalCode']\n",
    "#         except BaseException:\n",
    "#             return np.NaN\n",
    "#     else: \n",
    "#         return np.NaN"
   ]
  },
  {
   "cell_type": "code",
   "execution_count": null,
   "metadata": {},
   "outputs": [],
   "source": [
    "# unprocessed_df = pd.read_csv('all-restaurants-unprocessed.csv')"
   ]
  },
  {
   "cell_type": "code",
   "execution_count": null,
   "metadata": {},
   "outputs": [],
   "source": [
    "# #creating a template for final results of SEARCH query \n",
    "# columns = ['VenueID', 'Venue', 'CategoryName', 'CategoryShortName', 'Address', 'PostCode', 'Longitude', 'Lattitude']\n",
    "# restaurants_df = pd.DataFrame(columns=columns)"
   ]
  },
  {
   "cell_type": "code",
   "execution_count": null,
   "metadata": {
    "tags": []
   },
   "outputs": [],
   "source": [
    "# #writing a function that extract needed keys and values from categories column \n",
    "# restaurants_df.VenueID = unprocessed_df.id\n",
    "# restaurants_df.Venue = unprocessed_df.name\n",
    "# restaurants_df.CategoryName = unprocessed_df.apply(lambda x: unpack_name_categories(x.categories), axis=1)\n",
    "# restaurants_df.CategoryShortName = unprocessed_df.apply(lambda x: unpack_shortName_categories(x.categories), axis=1)\n",
    "# restaurants_df.Address = unprocessed_df.apply(lambda x: unpack_address_location(x.location), axis=1)\n",
    "# restaurants_df.PostCode = unprocessed_df.apply(lambda x: unpack_postcode_location(x.location), axis=1)\n",
    "# restaurants_df.Longitude = unprocessed_df.apply(lambda x: unpack_lng_location(x.location), axis=1)\n",
    "# restaurants_df.Lattitude = unprocessed_df.apply(lambda x: unpack_lat_location(x.location), axis=1)"
   ]
  },
  {
   "cell_type": "code",
   "execution_count": null,
   "metadata": {},
   "outputs": [],
   "source": [
    "# true_false = restaurants_df.CategoryShortName.value_counts() < 10\n",
    "# true_false.value_counts()"
   ]
  },
  {
   "source": [
    "short name in informative <br>\n",
    "record postcode values that were searched <br>\n",
    "investigate what keys location and categories column returns <br>\n",
    "Category IDs corresponding to Italian restaurants were taken from Foursquare web site (https://developer.foursquare.com/docs/resources/categories):\n",
    "<br>\n",
    "split toronto into large number of circles and find restaurants from these circles <br> \n",
    "\n"
   ],
   "cell_type": "markdown",
   "metadata": {}
  },
  {
   "cell_type": "code",
   "execution_count": null,
   "metadata": {},
   "outputs": [],
   "source": []
  }
 ]
}